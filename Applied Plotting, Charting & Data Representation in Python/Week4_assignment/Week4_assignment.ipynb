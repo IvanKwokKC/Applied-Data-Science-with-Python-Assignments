{
 "cells": [
  {
   "cell_type": "markdown",
   "metadata": {},
   "source": [
    "Region:\n",
    "Hong Kong\n",
    "\n",
    "Domain Category:\n",
    "Football\n",
    "\n",
    "Research Question:\n",
    "Which Football Club is the best in Hong Kong?\n",
    "\n",
    "Links:\n",
    "https://en.wikipedia.org/wiki/List_of_Hong_Kong_football_champions\n",
    "https://www.hkfa.com/en/leaguerank?leagueid=707&year=2014-2015\n",
    "https://www.hkfa.com/en/leaguerank?leagueid=842&year=2015-2016\n",
    "https://www.hkfa.com/en/leaguerank?leagueid=921&year=2016-2017"
   ]
  },
  {
   "cell_type": "code",
   "execution_count": 56,
   "metadata": {
    "collapsed": true
   },
   "outputs": [],
   "source": [
    "import numpy as np\n",
    "import matplotlib.pyplot as plt\n",
    "import pandas as pd"
   ]
  },
  {
   "cell_type": "code",
   "execution_count": 57,
   "metadata": {
    "collapsed": true
   },
   "outputs": [],
   "source": [
    "win14 = pd.read_excel('HK1DivLeague1908-2014.xls')\n",
    "win15 = pd.read_excel('HK1DivLeague2014-2015.xls')\n",
    "win16 = pd.read_excel('HK1DivLeague2015-2016.xls')\n",
    "win17 = pd.read_excel('HK1DivLeague2016-2017.xls')"
   ]
  },
  {
   "cell_type": "code",
   "execution_count": 58,
   "metadata": {
    "collapsed": true
   },
   "outputs": [],
   "source": [
    "win14 = win14[['Year', 'Champions']]\n",
    "\n",
    "for i in range(len(win14['Champions'])):\n",
    "    err = win14.iloc[i]['Champions'].find('(')\n",
    "    win14.iloc[i]['Champions'] = win14.iloc[i]['Champions'][:err].strip()\n",
    "    win14.iloc[i]['Year'] = win14.iloc[i]['Year'].strip()"
   ]
  },
  {
   "cell_type": "code",
   "execution_count": 59,
   "metadata": {
    "collapsed": true
   },
   "outputs": [],
   "source": [
    "win15['Year'] = '2014-15'\n",
    "win15 = win15[['Year', 'Team']]\n",
    "win15.columns = ['Year', 'Champions']"
   ]
  },
  {
   "cell_type": "code",
   "execution_count": 60,
   "metadata": {
    "collapsed": true
   },
   "outputs": [],
   "source": [
    "win16['Year'] = '2015-16'\n",
    "win16 = win16[['Year', 'Team']]\n",
    "win16.columns = ['Year', 'Champions']"
   ]
  },
  {
   "cell_type": "code",
   "execution_count": 61,
   "metadata": {
    "collapsed": true
   },
   "outputs": [],
   "source": [
    "win17['Year'] = '2016-17'\n",
    "win17 = win17[['Year', 'Team']]\n",
    "win17.columns = ['Year', 'Champions']"
   ]
  },
  {
   "cell_type": "code",
   "execution_count": 62,
   "metadata": {},
   "outputs": [
    {
     "data": {
      "text/plain": [
       "'Sun Hei'"
      ]
     },
     "execution_count": 62,
     "metadata": {},
     "output_type": "execute_result"
    }
   ],
   "source": [
    "win15.iloc[0]['Champions'].strip()\n",
    "win16.iloc[0]['Champions'].strip()\n",
    "win17.iloc[0]['Champions'].strip()"
   ]
  },
  {
   "cell_type": "code",
   "execution_count": 63,
   "metadata": {
    "collapsed": true
   },
   "outputs": [],
   "source": [
    "win = win14.append(win15.iloc[0]).append(win16.iloc[0]).append(win17.iloc[0])\n",
    "win = win.reset_index(drop=True)"
   ]
  },
  {
   "cell_type": "code",
   "execution_count": 64,
   "metadata": {
    "collapsed": true
   },
   "outputs": [],
   "source": [
    "win_num = win.groupby('Champions').agg('count')\n",
    "win_num.columns = ['winning number']"
   ]
  },
  {
   "cell_type": "code",
   "execution_count": 68,
   "metadata": {},
   "outputs": [
    {
     "data": {
      "text/plain": [
       "([<matplotlib.axis.XTick at 0x29e325d7748>,\n",
       "  <matplotlib.axis.XTick at 0x29e325d2b38>,\n",
       "  <matplotlib.axis.XTick at 0x29e3231bf28>,\n",
       "  <matplotlib.axis.XTick at 0x29e32550c50>,\n",
       "  <matplotlib.axis.XTick at 0x29e32557668>,\n",
       "  <matplotlib.axis.XTick at 0x29e3255f080>,\n",
       "  <matplotlib.axis.XTick at 0x29e3255fa58>,\n",
       "  <matplotlib.axis.XTick at 0x29e32565470>,\n",
       "  <matplotlib.axis.XTick at 0x29e32565e48>,\n",
       "  <matplotlib.axis.XTick at 0x29e3256b860>,\n",
       "  <matplotlib.axis.XTick at 0x29e32572278>,\n",
       "  <matplotlib.axis.XTick at 0x29e32572c50>,\n",
       "  <matplotlib.axis.XTick at 0x29e32578668>,\n",
       "  <matplotlib.axis.XTick at 0x29e3257f080>,\n",
       "  <matplotlib.axis.XTick at 0x29e3257fa58>,\n",
       "  <matplotlib.axis.XTick at 0x29e32587470>,\n",
       "  <matplotlib.axis.XTick at 0x29e32587e48>,\n",
       "  <matplotlib.axis.XTick at 0x29e3258d860>,\n",
       "  <matplotlib.axis.XTick at 0x29e32595278>,\n",
       "  <matplotlib.axis.XTick at 0x29e32595c50>,\n",
       "  <matplotlib.axis.XTick at 0x29e3259b668>,\n",
       "  <matplotlib.axis.XTick at 0x29e325a2080>,\n",
       "  <matplotlib.axis.XTick at 0x29e325a2a58>,\n",
       "  <matplotlib.axis.XTick at 0x29e325a8470>,\n",
       "  <matplotlib.axis.XTick at 0x29e325a8e48>,\n",
       "  <matplotlib.axis.XTick at 0x29e325ae860>,\n",
       "  <matplotlib.axis.XTick at 0x29e325b6278>,\n",
       "  <matplotlib.axis.XTick at 0x29e325b6c50>,\n",
       "  <matplotlib.axis.XTick at 0x29e325be668>,\n",
       "  <matplotlib.axis.XTick at 0x29e32605080>,\n",
       "  <matplotlib.axis.XTick at 0x29e32605a58>,\n",
       "  <matplotlib.axis.XTick at 0x29e3260b470>,\n",
       "  <matplotlib.axis.XTick at 0x29e3260be48>],\n",
       " <a list of 33 Text xticklabel objects>)"
      ]
     },
     "execution_count": 68,
     "metadata": {},
     "output_type": "execute_result"
    }
   ],
   "source": [
    "plt.figure(figsize=(10, 6))\n",
    "\n",
    "x = list(win_num.index.values)\n",
    "y = win_num.values\n",
    "y = list(y.flatten())\n",
    "\n",
    "x_range = range(0,33)\n",
    "\n",
    "plt.bar(x_range, y, width = 0.5)\n",
    "plt.xticks(x_range, x)"
   ]
  },
  {
   "cell_type": "code",
   "execution_count": 69,
   "metadata": {},
   "outputs": [
    {
     "data": {
      "text/plain": [
       "<matplotlib.text.Text at 0x29e3221f898>"
      ]
     },
     "execution_count": 69,
     "metadata": {},
     "output_type": "execute_result"
    }
   ],
   "source": [
    "plt.title('Champions of Hong Kong First Division League (1908–2017)')\n",
    "plt.xlabel('Clubs')\n",
    "plt.ylabel('Number of Champions')"
   ]
  },
  {
   "cell_type": "code",
   "execution_count": 70,
   "metadata": {},
   "outputs": [
    {
     "data": {
      "image/png": "[encoded data removed]",
      "text/plain": [
       "<matplotlib.figure.Figure at 0x29e32257588>"
      ]
     },
     "metadata": {},
     "output_type": "display_data"
    }
   ],
   "source": [
    "x_axis = plt.gca().xaxis\n",
    "\n",
    "# rotate the tick labels for the x axis\n",
    "for item in x_axis.get_ticklabels():\n",
    "    item.set_rotation(90)\n",
    "\n",
    "plt.show()"
   ]
  },
  {
   "cell_type": "markdown",
   "metadata": {},
   "source": [
    "Discussion:\n",
    "\n",
    "This visualization was concerned with answering the question of which football club is the best in Hong Kong. The dataset is sufficient. This bar chart show the number of Champions of Hong Kong First Division League from 1908 to 2017, excepting the period between 1941 and 1945 because of World War II.\n",
    "\n",
    "The best four are South China, Seiko, Kitchee and Happy Valley. The number of champions are 38, 9, 6 and 6 respectively. It clearly show that South China is the best one in Hong Kong. It won a large number of champions, which is more than 4 times of second one."
   ]
  },
  {
   "cell_type": "code",
   "execution_count": null,
   "metadata": {},
   "outputs": [],
   "source": []
  }
 ],
 "metadata": {
  "kernelspec": {
   "display_name": "Python 3",
   "language": "python",
   "name": "python3"
  },
  "language_info": {
   "codemirror_mode": {
    "name": "ipython",
    "version": 3
   },
   "file_extension": ".py",
   "mimetype": "text/x-python",
   "name": "python",
   "nbconvert_exporter": "python",
   "pygments_lexer": "ipython3",
   "version": "3.6.2"
  }
 },
 "nbformat": 4,
 "nbformat_minor": 2
}
